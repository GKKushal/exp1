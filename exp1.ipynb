import numpy as np
import pandas as pd
import matplotlib.pyplot as plt
import seaborn as sns
from sklearn.datasets import fetch_california_housing

california_data = fetch_california_housing()
data= pd.DataFrame(california_data.data, columns=california_data.feature_names)
data['MedHouseVal'] = california_data.target

plt.figure(figsize=(15,12))
for i, column in enumerate(data.columns):
    plt.subplot(4,3,i+1)
    plt.hist(data[column],bins=30, color= 'skyblue',edgecolor= 'black')
    plt.title(f'Histogram of {column}')
plt.tight_layout()
plt.show()

plt.figure(figsize=(15,12))
for i, column in enumerate(data.columns):
    plt.subplot(4,3,i+1)
    sns.boxplot(y=data[column], color='lightcoral')
    plt.title(f'Box plot of {column}')
plt.tight_layout()
plt.show()

print("Analyse the Histogram and box plots to observe distribution and outliers")

def compute_outliers(dataframe):
    print("\nOutlier Detection Using IrQ Method")
    for column in dataframe.columns:
        Q1 = dataframe[column].quantile(0.25)
        Q3 = dataframe[column].quantile(0.75)
        IRQ = Q3 - Q1
        lower_bound = Q1-1.5 * IRQ
        upper_bound = Q3+1.5 * IRQ
        
        outliers = dataframe[(dataframe[column] < lower_bound) | (dataframe[column] > upper_bound)]
        print(f"\nFeature :{column}")
        print(f"Lower bound :{lower_bound}, Upper Bound : {upper_bound}")
        print(f"Number of outliers : {len(outliers)}")
        if not outliers.empty:
            print(f"Outliers Values : \n{outliers[column].values}")
compute_outliers(data)
        
